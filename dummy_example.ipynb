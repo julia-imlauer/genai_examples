{
 "cells": [
  {
   "cell_type": "markdown",
   "metadata": {
    "colab_type": "text",
    "id": "BQqBe05SiEr7"
   },
   "source": [
    "# Super easy example\n",
    "\n",
    "This is a textbox. It visualizes text only.\n",
    "\n",
    " | \\\\\n",
    " | more exciting stuff follows --> the code block \\\\\n",
    " | \\\\\n",
    " v \\\\\n",
    "\n"
   ]
  },
  {
   "cell_type": "code",
   "execution_count": null,
   "metadata": {
    "colab": {
     "base_uri": "https://localhost:8080/",
     "height": 34
    },
    "colab_type": "code",
    "id": "MRYr4gEQiDdT",
    "outputId": "90bec431-9562-4e41-9f2f-71ad97352260"
   },
   "outputs": [],
   "source": [
    "# The code blcok executes Python code. Comments are indicated with a starting hash (#) at the beginning of the line. Comments are not executed.\n",
    "my_variable = 5 # Comments at the end of a code line are not executed too. Here, we assign the value 5 to our variable my_variable.\n",
    "print(my_variable) # The print function creates an output. Execute this code block with clicking the green play button! What do you observe? "
   ]
  },
  {
   "cell_type": "code",
   "execution_count": null,
   "metadata": {
    "colab": {
     "base_uri": "https://localhost:8080/",
     "height": 34
    },
    "colab_type": "code",
    "id": "9QQq-37WjA_p",
    "outputId": "6312b292-cf1c-4216-e9d7-064c8fbcb44d"
   },
   "outputs": [],
   "source": [
    "#new code block\n",
    "print('This is a code block. my_variable has this value: ', my_variable)"
   ]
  }
 ],
 "metadata": {
  "colab": {
   "collapsed_sections": [],
   "name": "dummy_beispiel.ipynb",
   "provenance": []
  },
  "kernelspec": {
   "display_name": "Python 3",
   "language": "python",
   "name": "python3"
  },
  "language_info": {
   "codemirror_mode": {
    "name": "ipython",
    "version": 3
   },
   "file_extension": ".py",
   "mimetype": "text/x-python",
   "name": "python",
   "nbconvert_exporter": "python",
   "pygments_lexer": "ipython3",
   "version": "3.7.6"
  }
 },
 "nbformat": 4,
 "nbformat_minor": 1
}
