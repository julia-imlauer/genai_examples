{
 "cells": [
  {
   "cell_type": "markdown",
   "metadata": {
    "colab_type": "text",
    "id": "-wFUjZTmcG5a"
   },
   "source": [
    "# Dataset loading\n",
    "\n",
    "In the first step we prepare everything and load our dataset with handwritten digits. Our goal is to load the image into our program and classify it. \n",
    "\n",
    "Classifying means to recognize which digit it is. Is it a *0* or a *9*?\n",
    "\n",
    "A small hint # signals a comment in the code, so programmers note hints to understand lines of code easier ;-)"
   ]
  },
  {
   "cell_type": "code",
   "execution_count": null,
   "metadata": {
    "colab": {
     "base_uri": "https://localhost:8080/",
     "height": 70
    },
    "colab_type": "code",
    "executionInfo": {
     "elapsed": 2861,
     "status": "ok",
     "timestamp": 1600017837359,
     "user": {
      "displayName": "Julia Nitsch",
      "photoUrl": "https://lh3.googleusercontent.com/a-/AOh14GiEI-GAxszORnjA0WqbcKrAT2dFjghG7ikD4zjctA=s64",
      "userId": "05156771066106099172"
     },
     "user_tz": -120
    },
    "id": "0xLkmPMibmpd",
    "outputId": "6a7e987e-9fdb-4c8b-b1a9-0162d1e662bf"
   },
   "outputs": [],
   "source": [
    "# TensorFlow and tf.keras\n",
    "import tensorflow as tf\n",
    "from tensorflow import keras\n",
    "import numpy as np\n",
    "import matplotlib.pyplot as plt\n",
    "print(tf.__version__)\n",
    "\n",
    "# We are loading the data\n",
    "mnist = keras.datasets.mnist\n",
    "(train_images, train_labels), (test_images, test_labels) = mnist.load_data()\n",
    "\n",
    "# We normalize the images, thus that it contains values between [0 - 1]. This is prefereable for NNs.\n",
    "train_images = train_images / 255.0\n",
    "test_images = test_images / 255.0\n",
    "\n",
    "\n"
   ]
  },
  {
   "cell_type": "markdown",
   "metadata": {
    "colab_type": "text",
    "id": "e0D6xKrIcElq"
   },
   "source": [
    "# Visualize the data\n",
    "\n",
    "In the next step, we load a *0* and a *9* from our training dataset and visualize the two digits."
   ]
  },
  {
   "cell_type": "code",
   "execution_count": null,
   "metadata": {
    "colab": {
     "base_uri": "https://localhost:8080/",
     "height": 544
    },
    "colab_type": "code",
    "executionInfo": {
     "elapsed": 961,
     "status": "ok",
     "timestamp": 1600017839430,
     "user": {
      "displayName": "Julia Nitsch",
      "photoUrl": "https://lh3.googleusercontent.com/a-/AOh14GiEI-GAxszORnjA0WqbcKrAT2dFjghG7ikD4zjctA=s64",
      "userId": "05156771066106099172"
     },
     "user_tz": -120
    },
    "id": "QNUbehzkdgtE",
    "outputId": "f9110fca-82dc-48e7-d780-beb1f2080491"
   },
   "outputs": [],
   "source": [
    "# Load a 0 from the training data\n",
    "indicies_of_all_0 = (np.where(test_labels == 0))[0]\n",
    "image_with_0 = test_images[indicies_of_all_0[0]]\n",
    "\n",
    "# Lade eine 9 aus den Trainingsdaten\n",
    "indicies_of_all_9 = (np.where(test_labels == 9))[0]\n",
    "image_with_9 = test_images[indicies_of_all_9[0]]\n",
    "\n",
    "# Visualisieren (= anzeigen) der Bilder, damit wir auch sehen ob wir das ganze richtig geladen haben \n",
    "plt.figure()\n",
    "plt.imshow(image_with_0, cmap=plt.cm.binary)\n",
    "plt.title(\"This is a 0\")\n",
    "plt.show()\n",
    "\n",
    "plt.figure()\n",
    "plt.imshow(image_with_9, cmap=plt.cm.binary)\n",
    "plt.title(\"This is a 9\")\n",
    "plt.show()"
   ]
  },
  {
   "cell_type": "markdown",
   "metadata": {
    "colab_type": "text",
    "id": "aFmWf_OtgUeE"
   },
   "source": [
    "# Define neural network\n",
    "Next we need to define the architecture of our neural network. How many layers should it have, how many neurons do these layers have.\n",
    "\n",
    "We first decide on the following architecture:\n",
    "\n",
    "\n",
    "* Input Layer: 28x28 (this is the size of our images!)\n",
    "* Fully Connected Network (FCN) Layer (means *dense* in TF!) with 128 neurons and one ReLU activation\n",
    "* Output are 10 neurons (we have 10 digits we want to classify)"
   ]
  },
  {
   "cell_type": "code",
   "execution_count": null,
   "metadata": {
    "colab": {},
    "colab_type": "code",
    "executionInfo": {
     "elapsed": 778,
     "status": "ok",
     "timestamp": 1600017845302,
     "user": {
      "displayName": "Julia Nitsch",
      "photoUrl": "https://lh3.googleusercontent.com/a-/AOh14GiEI-GAxszORnjA0WqbcKrAT2dFjghG7ikD4zjctA=s64",
      "userId": "05156771066106099172"
     },
     "user_tz": -120
    },
    "id": "LP0ZTVUqcC5x"
   },
   "outputs": [],
   "source": [
    "# Network architecture\n",
    "model = keras.Sequential([\n",
    "    keras.layers.Flatten(input_shape=(28, 28)),\n",
    "    keras.layers.Dense(128, activation='relu'),\n",
    "    keras.layers.Dense(10)\n",
    "])\n",
    "# Let TF build our network\n",
    "model.compile(optimizer='adam',\n",
    "              loss=tf.keras.losses.SparseCategoricalCrossentropy(from_logits=True),\n",
    "              metrics=['accuracy'])"
   ]
  },
  {
   "cell_type": "markdown",
   "metadata": {
    "colab_type": "text",
    "id": "Q9PhELVyhKD7"
   },
   "source": [
    "# Train the neural network\n",
    "In the next step we train our network with the data we loaded above. Training is also called *fitting*, because during training the weights of the neurons are adjusted, i.e. they are fitted. The word comes from English! \n",
    "\n",
    "Of course we have to tell TF how long the network should be trained. This is expressed by how often the training data should be shown to the network. \n",
    "\n",
    "* 1 x show all training data = 1 epoch\n",
    "* 2 x show all training data = 2 epochs\n"
   ]
  },
  {
   "cell_type": "code",
   "execution_count": null,
   "metadata": {
    "colab": {
     "base_uri": "https://localhost:8080/",
     "height": 390
    },
    "colab_type": "code",
    "executionInfo": {
     "elapsed": 33154,
     "status": "ok",
     "timestamp": 1600017881644,
     "user": {
      "displayName": "Julia Nitsch",
      "photoUrl": "https://lh3.googleusercontent.com/a-/AOh14GiEI-GAxszORnjA0WqbcKrAT2dFjghG7ikD4zjctA=s64",
      "userId": "05156771066106099172"
     },
     "user_tz": -120
    },
    "id": "zfgWUUFnhTED",
    "outputId": "44ed8f30-c275-438a-a84c-2e2ad40e7e16"
   },
   "outputs": [],
   "source": [
    "# Train network for 10 epochs\n",
    "model.fit(train_images, train_labels, epochs=10)"
   ]
  },
  {
   "cell_type": "markdown",
   "metadata": {
    "colab_type": "text",
    "id": "VJHCQFoniDM0"
   },
   "source": [
    "# Check how good the network is\n",
    "We have trained the network, now we also want to know how well it works. We also say we *evaluate* the network now. We evaluate with the test data. We ask how many of the test data are correctly classified, that is, how often the network correctly recognizes the number."
   ]
  },
  {
   "cell_type": "code",
   "execution_count": null,
   "metadata": {
    "colab": {
     "base_uri": "https://localhost:8080/",
     "height": 52
    },
    "colab_type": "code",
    "executionInfo": {
     "elapsed": 779,
     "status": "ok",
     "timestamp": 1600017885440,
     "user": {
      "displayName": "Julia Nitsch",
      "photoUrl": "https://lh3.googleusercontent.com/a-/AOh14GiEI-GAxszORnjA0WqbcKrAT2dFjghG7ikD4zjctA=s64",
      "userId": "05156771066106099172"
     },
     "user_tz": -120
    },
    "id": "fzI4H2ueijYC",
    "outputId": "433cea08-1cea-4d0d-d6c2-762d06a04aca"
   },
   "outputs": [],
   "source": [
    "# Testing the network\n",
    "test_loss, test_acc = model.evaluate(test_images,  test_labels, verbose=0)\n",
    "print('Our result:')\n",
    "print('Out of ', test_images.shape[0], ' we correctly classified ', int(test_acc * test_images.shape[0]), '. These are {:.2f}% of the data'.format(test_acc * 100.0))"
   ]
  },
  {
   "cell_type": "markdown",
   "metadata": {
    "colab_type": "text",
    "id": "RnlkyCx3g45B"
   },
   "source": [
    "# Can you find out the following.\n",
    "\n",
    "\n",
    "* Training time (= epochs) of the neural network:\n",
    "  * What happens if you train only for a very short time (e.g.: 1 epoch)? How many of the test data are then still recognized correctly?\n",
    "  * What happens if you train for a long time (e.g. 1000 epochs)? How many of the test data will be recognized correctly then? What can you observe?\n",
    "  * **Tip**: Find the place in the code where you train and change the number of epochs accordingly. \n",
    "\n",
    "\n",
    "* What happens if you shift the input number slightly to the left? Will it still be recognized correctly? Just try the example and describe what you see. Can you find an explanation for it?\n",
    "\n",
    "* What happens if the input number is slightly noisy? Is it still recognized correctly? Just try the example and describe what you see. Can you find an explanation for it? Where could noise come from, for example, can you find examples of it?"
   ]
  },
  {
   "cell_type": "code",
   "execution_count": null,
   "metadata": {
    "colab": {
     "base_uri": "https://localhost:8080/",
     "height": 580
    },
    "colab_type": "code",
    "executionInfo": {
     "elapsed": 1036,
     "status": "ok",
     "timestamp": 1600017891289,
     "user": {
      "displayName": "Julia Nitsch",
      "photoUrl": "https://lh3.googleusercontent.com/a-/AOh14GiEI-GAxszORnjA0WqbcKrAT2dFjghG7ikD4zjctA=s64",
      "userId": "05156771066106099172"
     },
     "user_tz": -120
    },
    "id": "8m2q5qo1iQfa",
    "outputId": "aa12810f-2464-43da-9654-7f662b55c113"
   },
   "outputs": [],
   "source": [
    "# Example of shifted 9\n",
    "\n",
    "shifted_nine = np.zeros_like(image_with_9) # we create an empty image of the same size as the 9\n",
    "shifted_nine[:, :15] = image_with_9[:, 8:23]\n",
    "\n",
    "plt.figure()\n",
    "plt.imshow(image_with_9, cmap=plt.cm.binary)\n",
    "plt.title(\"This is the correct 9\")\n",
    "plt.show()\n",
    "\n",
    "plt.figure()\n",
    "plt.imshow(shifted_nine, cmap=plt.cm.binary)\n",
    "plt.title(\"This is the shifted 9\")\n",
    "plt.show()\n",
    "\n",
    "from scipy.special import softmax\n",
    "logits_of_nine = model.predict(np.expand_dims(image_with_9, 0))\n",
    "probabilities_of_nine = softmax(logits_of_nine)[0]\n",
    "detected_class_of_nine = np.argmax(probabilities_of_nine)\n",
    "print('The NN classified the 9 as ', detected_class_of_nine, ' with a probability of ', probabilities_of_nine[detected_class_of_nine])\n",
    "\n",
    "logits_of_shifted_nine = model.predict(np.expand_dims(shifted_nine, 0))\n",
    "probabilities_of_shifted_nine = softmax(logits_of_shifted_nine)[0]\n",
    "detected_class_of_shifted_nine = np.argmax(probabilities_of_shifted_nine)\n",
    "print('The NN classified the shifted 9 as ', detected_class_of_shifted_nine, ' with a probability of ', probabilities_of_shifted_nine[detected_class_of_shifted_nine])\n"
   ]
  },
  {
   "cell_type": "code",
   "execution_count": null,
   "metadata": {
    "colab": {
     "base_uri": "https://localhost:8080/",
     "height": 671
    },
    "colab_type": "code",
    "executionInfo": {
     "elapsed": 805,
     "status": "ok",
     "timestamp": 1600017900646,
     "user": {
      "displayName": "Julia Nitsch",
      "photoUrl": "https://lh3.googleusercontent.com/a-/AOh14GiEI-GAxszORnjA0WqbcKrAT2dFjghG7ikD4zjctA=s64",
      "userId": "05156771066106099172"
     },
     "user_tz": -120
    },
    "id": "vM3104LCnknu",
    "outputId": "974ebe64-2a20-4735-db50-0677475487a3"
   },
   "outputs": [],
   "source": [
    "# Example of noised 9\n",
    "\n",
    "noised_nine = np.copy(image_with_9) \n",
    "noise = np.zeros_like(image_with_9) \n",
    "image_coordinates = [np.random.randint(0, i - 1, 50) for i in noise.shape]\n",
    "noise[image_coordinates] = 1\n",
    "noised_nine += noise\n",
    "image_coordinates = [np.random.randint(0, i - 1, 50) for i in noise.shape]\n",
    "noise[image_coordinates] = -1\n",
    "noised_nine += noise\n",
    "noised_nine = np.clip(noised_nine,0,1)\n",
    "\n",
    "\n",
    "plt.figure()\n",
    "plt.imshow(image_with_9, cmap=plt.cm.binary)\n",
    "plt.title(\"This is the correct 9\")\n",
    "plt.show()\n",
    "\n",
    "plt.figure()\n",
    "plt.imshow(noised_nine, cmap=plt.cm.binary)\n",
    "plt.title(\"This is the noised 9\")\n",
    "plt.show()\n",
    "\n",
    "from scipy.special import softmax\n",
    "logits_of_nine = model.predict(np.expand_dims(image_with_9, 0))\n",
    "probabilities_of_nine = softmax(logits_of_nine)[0]\n",
    "detected_class_of_nine = np.argmax(probabilities_of_nine)\n",
    "print('The NN classified the 9 as ', detected_class_of_nine, ' with a probability of ', probabilities_of_nine[detected_class_of_nine])\n",
    "\n",
    "logits_of_noised_nine = model.predict(np.expand_dims(noised_nine, 0))\n",
    "probabilities_of_noised_nine = softmax(logits_of_noised_nine)[0]\n",
    "detected_class_of_noised_nine = np.argmax(probabilities_of_noised_nine)\n",
    "print('The NN classified the noised 9 as ', detected_class_of_noised_nine, ' with a probability of ', probabilities_of_noised_nine[detected_class_of_noised_nine])\n"
   ]
  }
 ],
 "metadata": {
  "colab": {
   "collapsed_sections": [],
   "name": "modul_1_mnist-digits.ipynb",
   "provenance": []
  },
  "kernelspec": {
   "display_name": "Python 3",
   "language": "python",
   "name": "python3"
  },
  "language_info": {
   "codemirror_mode": {
    "name": "ipython",
    "version": 3
   },
   "file_extension": ".py",
   "mimetype": "text/x-python",
   "name": "python",
   "nbconvert_exporter": "python",
   "pygments_lexer": "ipython3",
   "version": "3.7.6"
  }
 },
 "nbformat": 4,
 "nbformat_minor": 1
}
